{
  "metadata": {
    "saveOutput": true,
    "language_info": {
      "name": "csharp"
    }
  },
  "nbformat": 4,
  "nbformat_minor": 2,
  "cells": [
    {
      "cell_type": "markdown",
      "metadata": {},
      "source": [
        "## Batch load to Data Lake using C# Spark\n",
        "\n",
        "A good reference for additional syntax examples: https://github.com/dotnet/spark/blob/master/examples/Microsoft.Spark.CSharp.Examples/Sql/Batch/Basic.cs\n",
        ""
      ],
      "attachments": {}
    },
    {
      "cell_type": "code",
      "execution_count": 1,
      "outputs": [],
      "metadata": {},
      "source": [
        "// from pyspark.sql.functions import col, desc, regexp_replace, substring, to_date, from_json, explode, expr\n",
        "// from pyspark.sql.types import StructType, StringType\n",
        "using Microsoft.Spark.Sql;\n",
        "using Microsoft.Spark.Sql.Types;\n",
        "using static Microsoft.Spark.Sql.Functions;\n",
        "\n",
        "\n",
        "var taxi_zone_path = \"abfss://demo@dvtrainingadls.dfs.core.windows.net/nyctaxi/lookups/taxi_zone\";\n",
        "var taxi_rate_path = \"abfss://demo@dvtrainingadls.dfs.core.windows.net/nyctaxi/lookups/taxi_rate_code\";\n",
        "var yellow_delta_path = \"abfss://demo@dvtrainingadls.dfs.core.windows.net/nyctaxi/tripdata/yellow_delta\";\n",
        "\n",
        "var date_format = \"yyyy-MM-dd HH:mm:ss\";\n",
        "\n",
        "// Define a schema that Spark understands. This is one of several ways to do it.\n",
        "var trip_schema = new StructType(new[]\n",
        "{\n",
        "    new StructField(\"VendorID\", new IntegerType()),\n",
        "    new StructField(\"tpep_pickup_datetime\", new StringType()),\n",
        "    new StructField(\"tpep_dropoff_datetime\", new StringType()),\n",
        "    new StructField(\"passenger_count\", new IntegerType()),\n",
        "    new StructField(\"trip_distance\", new DoubleType()),\n",
        "    new StructField(\"RatecodeID\", new IntegerType()),\n",
        "    new StructField(\"store_and_fwd_flag\", new StringType()),\n",
        "    new StructField(\"PULocationID\", new IntegerType()),\n",
        "    new StructField(\"DOLocationID\", new IntegerType()),\n",
        "    new StructField(\"payment_type\", new IntegerType()),\n",
        "    new StructField(\"fare_amount\", new DoubleType()),\n",
        "    new StructField(\"extra\", new DoubleType()),\n",
        "    new StructField(\"mta_tax\", new DoubleType()),\n",
        "    new StructField(\"tip_amount\", new DoubleType()),\n",
        "    new StructField(\"tolls_amount\", new DoubleType()),\n",
        "    new StructField(\"improvement_surcharge\", new DoubleType()),\n",
        "    new StructField(\"total_amount\", new DoubleType())\n",
        "});"
      ],
      "attachments": {}
    },
    {
      "cell_type": "code",
      "execution_count": 3,
      "outputs": [],
      "metadata": {},
      "source": [
        "var input_df = spark.Read()\n",
        "    .Option(\"header\",\"true\")\n",
        "    .Option(\"inferSchema\", \"true\")\n",
        "    .Csv(\"abfss://demo@dvtrainingadls.dfs.core.windows.net/nyctaxi/lookups/taxi_zone_lookup.csv\"); \n",
        "\n",
        "\n",
        "var df = input_df.WithColumnRenamed(\"service_zone\", \"ServiceZone\");\n",
        "\n",
        "df.Write().Format(\"delta\").Mode(\"overwrite\").Save(taxi_zone_path);"
      ],
      "attachments": {}
    },
    {
      "cell_type": "code",
      "execution_count": 4,
      "outputs": [],
      "metadata": {},
      "source": [
        "// If you want to delete the trips table before starting, keep following line uncommented\n",
        "// dbutils.fs.rm(yellow_delta_path,recurse=True)\n",
        "spark.Conf().Set(\"spark.sql.shuffle.partitions\", \"18\");\n",
        "\n",
        "var input_df = spark.Read()\n",
        "    .Option(\"header\",\"true\")\n",
        "    .Schema(trip_schema)\n",
        "    .Csv(\"abfss://demo@dvtrainingadls.dfs.core.windows.net/nyctaxi/tripdata/yellow/2019/yellow_tripdata_2019-*\");\n",
        "// .Option(\"inferSchema\", \"true\")\n",
        "\n",
        "// Take your pick on how to transform, withColumn or SQL Expressions. Only one of these is needed.\n",
        "// Option A\n",
        "var transformed_df = input_df\n",
        "    .WithColumn(\"year_month\", RegexpReplace(Substring(Col(\"tpep_pickup_datetime\"),1,7), \"-\", \"_\"))\n",
        "    .WithColumn(\"pickup_dt\", ToDate(Col(\"tpep_pickup_datetime\"), date_format)) \n",
        "    .WithColumn(\"dropoff_dt\", ToDate(Col(\"tpep_dropoff_datetime\"), date_format))\n",
        "    .WithColumn(\"tip_pct\", Col(\"tip_amount\") / Col(\"total_amount\"));\n",
        "  \n",
        "// Option B\n",
        "// var transformed_df = input_df.SelectExpr(\n",
        "//                   \"*\",\n",
        "//                   \"replace(left(tpep_pickup_datetime, 7),\\\"-\\\",\\\"_\\\") as year_month\",\n",
        "//                   $\"to_date(tpep_pickup_datetime, \\\"{date_format}\\\") as pickup_dt\",\n",
        "//                   $\"to_date(tpep_dropoff_datetime, \\\"{date_format}\\\") as dropoff_dt\",\n",
        "//                   $\"tip_amount/total_amount as tip_pct\");\n",
        "\n",
        "var zone_df = spark.Read().Format(\"delta\").Load(taxi_zone_path);\n",
        "\n",
        "// Join to bring in Taxi Zone data\n",
        "var trip_df = transformed_df\n",
        "     .Join(zone_df, transformed_df[\"PULocationID\"] == zone_df[\"LocationID\"], \"left\").Drop(\"LocationID\")\n",
        "     .WithColumnRenamed(\"Burough\", \"PickupBurrough\")\n",
        "     .WithColumnRenamed(\"Zone\", \"PickupZone\")\n",
        "     .WithColumnRenamed(\"ServiceZone\", \"PickupServiceZone\");\n",
        "\n",
        "trip_df.Write().Mode(\"overwrite\").PartitionBy(\"year_month\").Format(\"delta\").Save(yellow_delta_path);\n",
        ""
      ],
      "attachments": {}
    },
    {
      "cell_type": "markdown",
      "metadata": {},
      "source": [
        "## Test read\n",
        "Simple test read of the delta formatted data that was just saved.\n",
        ""
      ],
      "attachments": {}
    },
    {
      "cell_type": "code",
      "execution_count": 2,
      "outputs": [
        {
          "output_type": "execute_result",
          "execution_count": 2,
          "data": {
            "text/plain": "+--------+--------------------+---------------------+---------------+\n|VendorID|tpep_pickup_datetime|tpep_dropoff_datetime|passenger_count|\n+--------+--------------------+---------------------+---------------+\n|       1| 2019-01-01 00:46:40|  2019-01-01 00:53:20|              1|\n|       1| 2019-01-01 00:59:47|  2019-01-01 01:18:59|              1|\n|       1| 2019-01-01 00:21:28|  2019-01-01 00:28:37|              1|\n|       1| 2019-01-01 00:32:01|  2019-01-01 00:45:39|              1|\n|       1| 2019-01-01 00:57:32|  2019-01-01 01:09:32|              2|\n|       1| 2019-01-01 00:24:04|  2019-01-01 00:47:06|              2|\n|       1| 2019-01-01 00:21:59|  2019-01-01 00:28:24|              1|\n|       1| 2019-01-01 00:45:21|  2019-01-01 01:31:05|              1|\n|       1| 2019-01-01 00:43:19|  2019-01-01 01:07:42|              1|\n|       1| 2019-01-01 00:58:24|  2019-01-01 01:15:18|              1|\n|       2| 2019-01-01 00:23:14|  2019-01-01 00:25:40|              1|\n|       2| 2019-01-01 00:39:51|  2019-01-01 00:48:02|              1|\n|       2| 2019-01-01 00:46:00|  2019-01-01 00:49:07|              1|\n|       2| 2019-01-01 00:57:45|  2019-01-01 01:03:51|              1|\n|       2| 2019-01-01 00:16:16|  2019-01-01 00:25:57|              1|\n|       2| 2019-01-01 00:46:43|  2019-01-01 00:47:02|              1|\n|       1| 2019-01-01 00:48:01|  2019-01-01 01:00:23|              1|\n|       1| 2019-01-01 00:55:27|  2019-01-01 01:11:50|              1|\n|       1| 2019-01-01 00:19:55|  2019-01-01 00:57:56|              1|\n|       1| 2019-01-01 00:13:53|  2019-01-01 00:22:11|              1|\n+--------+--------------------+---------------------+---------------+"
          },
          "metadata": {}
        }
      ],
      "metadata": {},
      "source": [
        "var test_df = spark.Read().Format(\"delta\").Load(yellow_delta_path).Limit(20);\n",
        "test_df.Select(\"VendorID\", \"tpep_pickup_datetime\", \"tpep_dropoff_datetime\", \"passenger_count\").Show();"
      ],
      "attachments": {}
    }
  ]
}