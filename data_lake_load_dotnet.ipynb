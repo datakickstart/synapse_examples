{
  "metadata": {
    "saveOutput": true,
    "language_info": {
      "name": "csharp"
    }
  },
  "nbformat": 4,
  "nbformat_minor": 2,
  "cells": [
    {
      "cell_type": "markdown",
      "metadata": {},
      "source": [
        "## .NET Spark (C#): Load to Data Lake\n",
        "\n",
        "A good reference for additional syntax examples: https://github.com/dotnet/spark/blob/master/examples/Microsoft.Spark.CSharp.Examples/Sql/Batch/Basic.cs\n",
        ""
      ]
    },
    {
      "cell_type": "code",
      "execution_count": null,
      "outputs": [],
      "metadata": {},
      "source": [
        "using Microsoft.Spark.Sql;\n",
        "using Microsoft.Spark.Sql.Types;\n",
        "using static Microsoft.Spark.Sql.Functions;\n",
        "\n",
        "var yellowSourcePath = \"wasbs://nyctlc@azureopendatastorage.blob.core.windows.net/yellow/puYear=2018/puMonth=*/*.parquet\";\n",
        "var taxiZoneSourcePath = \"abfss://demo@datakickstartadls.dfs.core.windows.net/nyctaxi/lookups/taxi_zone_lookup.csv\";\n",
        "\n",
        "var taxiZonePath = \"abfss://demo@datakickstartadls.dfs.core.windows.net/nyctaxi/lookups/taxi_zone\";\n",
        "var taxiRatePath = \"abfss://demo@datakickstartadls.dfs.core.windows.net/nyctaxi/lookups/taxi_rate_code\";\n",
        "var yellowDeltaPath = \"abfss://demo@datakickstartadls.dfs.core.windows.net/nyctaxi/tripdata/yellow_delta\";\n",
        "\n",
        "var dateFormat = \"yyyy-MM-dd HH:mm:ss\";\n",
        "\n",
        "// Define a schema that Spark understands. This is one of several ways to do it.\n",
        "var taxiZoneSchema = new StructType(new[]\n",
        "{\n",
        "    new StructField(\"LocationID\", new IntegerType()),\n",
        "    new StructField(\"Borough\", new StringType()),\n",
        "    new StructField(\"Zone\", new StringType()),\n",
        "    new StructField(\"ServiceZone\", new StringType()),\n",
        "});"
      ]
    },
    {
      "cell_type": "code",
      "execution_count": null,
      "outputs": [],
      "metadata": {},
      "source": [
        "DataFrame zoneDF = spark.Read()\n",
        "    .Option(\"header\",\"true\")\n",
        "    .Schema(taxiZoneSchema)\n",
        "    .Csv(taxiZoneSourcePath); \n",
        "\n",
        "zoneDF.Write().Format(\"delta\").Mode(\"overwrite\").Save(taxiZonePath);\n",
        "\n",
        "zoneDF.Show();"
      ]
    },
    {
      "cell_type": "code",
      "execution_count": null,
      "outputs": [],
      "metadata": {},
      "source": [
        "DataFrame inputDF = spark.Read()\n",
        "    .Option(\"inferSchema\", \"true\")\n",
        "    .Parquet(yellowSourcePath);\n",
        "\n",
        "// Take your pick on how to transform, withColumn or SQL Expressions. Only one of these is needed.\n",
        "// Option A\n",
        "// var transformedDF = inputDF\n",
        "//     .WithColumn(\"yearMonth\", RegexpReplace(Substring(Col(\"tpepPickupDatetime\"),1,7), \"-\", \"_\"))\n",
        "//     .WithColumn(\"pickupDt\", ToDate(Col(\"tpepPickupDatetime\"), dateFormat)) \n",
        "//     .WithColumn(\"dropoffDt\", ToDate(Col(\"tpepDropoffDatetime\"), dateFormat))\n",
        "//     .WithColumn(\"tipPct\", Col(\"tipAmount\") / Col(\"totalAmount\"));\n",
        "  \n",
        "// Option B\n",
        "var transformedDF = inputDF.SelectExpr(\n",
        "                  \"*\",\n",
        "                  \"replace(left(tpepPickupDatetime, 7),\\\"-\\\",\\\"_\\\") as yearMonth\",\n",
        "                  $\"to_date(tpepPickupDatetime, \\\"{dateFormat}\\\") as pickupDt\",\n",
        "                  $\"to_date(tpepDropoffDatetime, \\\"{dateFormat}\\\") as dropoffDt\",\n",
        "                  $\"tipAmount/totalAmount as tipPct\");\n",
        "\n",
        "DataFrame zoneDF = spark.Read().Format(\"delta\").Load(taxiZonePath);\n",
        "\n",
        "// Join to bring in Taxi Zone data\n",
        "var tripDF = transformedDF\n",
        "     .Join(zoneDF, transformedDF[\"PULocationID\"] == zoneDF[\"LocationID\"], \"left\").Drop(\"LocationID\")\n",
        "     .WithColumnRenamed(\"Burough\", \"PickupBurrough\")\n",
        "     .WithColumnRenamed(\"Zone\", \"PickupZone\")\n",
        "     .WithColumnRenamed(\"ServiceZone\", \"PickupServiceZone\");\n",
        "\n",
        "tripDF.Write().Mode(\"overwrite\").PartitionBy(\"yearMonth\").Format(\"delta\").Save(yellowDeltaPath);"
      ]
    },
    {
      "cell_type": "markdown",
      "metadata": {},
      "source": [
        "## Test read\n",
        "Simple test read of the delta formatted data that was just saved.\n",
        ""
      ]
    },
    {
      "cell_type": "code",
      "execution_count": null,
      "outputs": [],
      "metadata": {},
      "source": [
        "var testDF = spark.Read().Format(\"delta\").Load(yellowDeltaPath).Limit(20);\n",
        "testDF.Select(\"VendorID\", \"tpepPickupDatetime\", \"tpepDropoffDatetime\", \"passengerCount\").Show();"
      ]
    }
  ]
}