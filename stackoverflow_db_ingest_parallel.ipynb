{
  "cells": [
    {
      "cell_type": "code",
      "source": [
        "database = \"StackOverflow2010\"\r\n",
        "db_host_name = \"sandbox-2-sqlserver.database.windows.net\"\r\n",
        "db_url = f\"jdbc:sqlserver://{db_host_name};databaseName={database}\"\r\n",
        "db_user = mssparkutils.credentials.getSecretWithLS(\"demokv\", \"sql-user-stackoverflow\")\r\n",
        "db_password = mssparkutils.credentials.getSecretWithLS(\"demokv\", \"sql-pwd-stackoverflow\")"
      ],
      "outputs": [],
      "execution_count": 1,
      "metadata": {
        "jupyter": {
          "source_hidden": false,
          "outputs_hidden": false
        },
        "nteract": {
          "transient": {
            "deleting": false
          }
        }
      }
    },
    {
      "cell_type": "code",
      "source": [
        "spark.sql(f\"CREATE DATABASE IF NOT EXISTS raw_stackoverflow LOCATION '/demo/raw_stackoverflow'\")\r\n",
        "table_list = [\"Badges\", \"Comments\", \"LinkTypes\", \"PostLinks\", \"Posts\", \"PostTypes\", \"Users\", \"Votes\", \"VoteTypes\"]\r\n",
        "\r\n",
        "def load_table(table):\r\n",
        "    print(table)\r\n",
        "    destination_table = \"raw_stackoverflow.\" + table\r\n",
        "\r\n",
        "    df = (\r\n",
        "        spark.read\r\n",
        "        .format(\"com.microsoft.sqlserver.jdbc.spark\")\r\n",
        "        .option(\"url\", db_url)\r\n",
        "        .option(\"dbtable\", table)\r\n",
        "        .option(\"user\", db_user)\r\n",
        "        .option(\"password\", db_password)\r\n",
        "        .load()\r\n",
        "    )\r\n",
        "\r\n",
        "    df.write.format(\"parquet\").mode(\"overwrite\").saveAsTable(destination_table)"
      ],
      "outputs": [],
      "execution_count": 2,
      "metadata": {
        "jupyter": {
          "source_hidden": false,
          "outputs_hidden": false
        },
        "nteract": {
          "transient": {
            "deleting": false
          }
        }
      }
    },
    {
      "cell_type": "code",
      "source": [
        "from threading import Thread\r\n",
        "from queue import Queue\r\n",
        "\r\n",
        "q = Queue()\r\n",
        "\r\n",
        "worker_count = 2\r\n",
        "\r\n",
        "def run_tasks(function, q):\r\n",
        "    while not q.empty():\r\n",
        "        value = q.get()\r\n",
        "        function(value)\r\n",
        "        q.task_done()\r\n",
        "\r\n",
        "\r\n",
        "print(table_list)\r\n",
        "\r\n",
        "for table in table_list:\r\n",
        "    q.put(table)\r\n",
        "\r\n",
        "for i in range(worker_count):\r\n",
        "    t=Thread(target=run_tasks, args=(load_table, q))\r\n",
        "    t.daemon = True\r\n",
        "    t.start()\r\n",
        "\r\n",
        "print(\"Running load\")\r\n",
        "q.join()\r\n",
        "print(\"Load completed\")\r\n"
      ],
      "outputs": [],
      "execution_count": 3,
      "metadata": {}
    }
  ],
  "metadata": {
    "kernelspec": {
      "name": "synapse_pyspark",
      "display_name": "Synapse PySpark"
    },
    "language_info": {
      "name": "python"
    },
    "save_output": true,
    "synapse_widget": {
      "version": "0.1",
      "state": {}
    }
  },
  "nbformat": 4,
  "nbformat_minor": 2
}