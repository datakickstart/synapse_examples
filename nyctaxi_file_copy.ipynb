{
  "cells": [
    {
      "cell_type": "code",
      "source": [
        "mssparkutils.fs.cp(\"wasbs://nyctlc@azureopendatastorage.blob.core.windows.net/yellow/puYear=2019\", \"/nyctaxi_raw/parquet/yellow/puYear=2019/\", recurse=True)"
      ],
      "outputs": [],
      "execution_count": 12,
      "metadata": {
        "jupyter": {
          "source_hidden": false,
          "outputs_hidden": false
        },
        "nteract": {
          "transient": {
            "deleting": false
          }
        }
      }
    },
    {
      "cell_type": "code",
      "source": [
        "from pyspark.sql.functions import col, desc, regexp_replace, substring, to_date, from_json, explode, expr\r\n",
        "from pyspark.sql.types import StructType, StringType\r\n",
        "\r\n",
        "yellow_source_path = \"wasbs://nyctlc@azureopendatastorage.blob.core.windows.net/parquet/yellow/puYear=2019\"\r\n",
        "\r\n",
        "date_format = \"yyyy-MM-dd HH:mm:ss\"\r\n"
      ],
      "outputs": [],
      "execution_count": null,
      "metadata": {}
    },
    {
      "cell_type": "code",
      "source": [
        "df = spark.read.parquet(yellow_source_path)\r\n",
        "df.printSchema()"
      ],
      "outputs": [],
      "execution_count": null,
      "metadata": {
        "jupyter": {
          "source_hidden": false,
          "outputs_hidden": false
        },
        "nteract": {
          "transient": {
            "deleting": false
          }
        }
      }
    },
    {
      "cell_type": "code",
      "source": [
        "df.write.format(\"csv\").partitionBy(\"puMonth\").mode(\"overwrite\").option(\"compression\", \"gzip\").save(\"/nyctaxi_raw/csv/yellow/puYear=2019/\")"
      ],
      "outputs": [],
      "execution_count": null,
      "metadata": {
        "jupyter": {
          "source_hidden": false,
          "outputs_hidden": false
        },
        "nteract": {
          "transient": {
            "deleting": false
          }
        }
      }
    }
  ],
  "metadata": {
    "kernelspec": {
      "name": "synapse_pyspark",
      "language": "Python",
      "display_name": "Synapse PySpark"
    },
    "language_info": {
      "name": "python"
    },
    "kernel_info": {
      "name": "synapse_pyspark"
    },
    "save_output": true,
    "synapse_widget": {
      "version": "0.1",
      "state": {}
    }
  },
  "nbformat": 4,
  "nbformat_minor": 2
}