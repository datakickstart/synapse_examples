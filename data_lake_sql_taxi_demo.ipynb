{
  "metadata": {
    "saveOutput": true,
    "language_info": {
      "name": "sql"
    }
  },
  "nbformat": 4,
  "nbformat_minor": 2,
  "cells": [
    {
      "cell_type": "markdown",
      "metadata": {},
      "source": [
        "## Synapse Spark NYC Taxi queries\n",
        "This notebooks demonstrates how Spark SQL can be used to interact with a data lake. This is the recommended starting point for many data scientists and analysts to work with a data lake.\n",
        "\n",
        "This notebook and other examples are avilable at https://github.com/datakickstart/synapse_examples"
      ],
      "attachments": {}
    },
    {
      "cell_type": "code",
      "execution_count": 0,
      "outputs": [
        {
          "output_type": "execute_result",
          "execution_count": 0,
          "data": {
            "application/json": {
              "isSummary": false,
              "language": "sql",
              "table": {
                "rows": [],
                "schema": {}
              }
            }
          },
          "metadata": {}
        }
      ],
      "metadata": {
        "diagram": {
          "activateDiagramType": 1,
          "chartConfig": {
            "category": "bar",
            "keys": [],
            "values": [],
            "yLabel": "",
            "xLabel": "",
            "aggregation": "SUM",
            "aggByBackend": false
          },
          "aggData": "{}",
          "isSummary": false,
          "previewData": {
            "filter": null
          },
          "isSql": true
        }
      },
      "source": [
        "DROP TABLE IF EXISTS synapse_trips_external_csv"
      ],
      "attachments": {}
    },
    {
      "cell_type": "code",
      "execution_count": 1,
      "outputs": [
        {
          "output_type": "execute_result",
          "execution_count": 1,
          "data": {
            "application/json": {
              "isSummary": false,
              "language": "sql",
              "table": {
                "rows": [],
                "schema": {}
              }
            }
          },
          "metadata": {}
        }
      ],
      "metadata": {
        "diagram": {
          "activateDiagramType": 1,
          "chartConfig": {
            "category": "bar",
            "keys": [],
            "values": [],
            "yLabel": "",
            "xLabel": "",
            "aggregation": "SUM",
            "aggByBackend": false
          },
          "aggData": "{}",
          "isSummary": false,
          "previewData": {
            "filter": null
          },
          "isSql": true
        }
      },
      "source": [
        "CREATE EXTERNAL TABLE synapse_trips_external_csv\n",
        "(\n",
        "VendorID int,\n",
        "tpep_pickup_datetime string,\n",
        "tpep_dropoff_datetime string,\n",
        "passenger_count int,\n",
        "trip_distance float,\n",
        "RatecodeID int,\n",
        "store_and_fwd_flag string,\n",
        "PULocationID int,\n",
        "DOLocationID int,\n",
        "payment_type int,\n",
        "fare_amount float,\n",
        "extra float,\n",
        "mta_tax float,\n",
        "tip_amount int,\n",
        "tolls_amount int,\n",
        "improvement_surcharge float,\n",
        "total_amount float,\n",
        "congestion_surcharge string\n",
        ")\n",
        "ROW FORMAT DELIMITED FIELDS TERMINATED BY ','\n",
        "STORED AS TEXTFILE\n",
        "TBLPROPERTIES (\"skip.header.line.count\"=\"1\")\n",
        "LOCATION \"abfss://demo@dvtrainingadls.dfs.core.windows.net/nyctaxi/tripdata/yellow/2019\"\n",
        ""
      ],
      "attachments": {}
    },
    {
      "cell_type": "code",
      "execution_count": 2,
      "outputs": [
        {
          "output_type": "execute_result",
          "execution_count": 2,
          "data": {
            "application/json": {
              "isSummary": false,
              "language": "sql",
              "table": {
                "rows": [
                  {
                    "count(1)": 84399031
                  }
                ],
                "schema": {
                  "count(1)": "long"
                }
              }
            }
          },
          "metadata": {}
        }
      ],
      "metadata": {
        "diagram": {
          "activateDiagramType": 1,
          "chartConfig": {
            "category": "bar",
            "keys": [],
            "values": [
              "count(1)"
            ],
            "yLabel": "count(1)",
            "xLabel": "",
            "aggregation": "SUM",
            "aggByBackend": false
          },
          "aggData": "{\"count(1)\":{\"\":84399031}}",
          "isSummary": false,
          "previewData": {
            "filter": null
          },
          "isSql": true
        }
      },
      "source": [
        "SELECT count(1) from synapse_trips_external_csv"
      ],
      "attachments": {}
    },
    {
      "cell_type": "code",
      "execution_count": 3,
      "outputs": [
        {
          "output_type": "execute_result",
          "execution_count": 3,
          "data": {
            "application/json": {
              "isSummary": false,
              "language": "sql",
              "table": {
                "rows": [
                  {
                    "VendorID": 2,
                    "tpep_pickup_datetime": "2019-12-01 00:17:53",
                    "tpep_dropoff_datetime": "2019-12-01 00:21:18",
                    "passenger_count": 2,
                    "trip_distance": 0.5799999833106995,
                    "RatecodeID": 1,
                    "store_and_fwd_flag": "N",
                    "PULocationID": 68,
                    "DOLocationID": 230,
                    "payment_type": 1,
                    "fare_amount": 4.5,
                    "extra": 0,
                    "mta_tax": 0.5,
                    "tip_amount": 4,
                    "tolls_amount": 0,
                    "improvement_surcharge": 0.30000001192092896,
                    "total_amount": 11.800000190734863,
                    "congestion_surcharge": "2.5"
                  },
                  {
                    "VendorID": 2,
                    "tpep_pickup_datetime": "2019-12-01 00:33:23",
                    "tpep_dropoff_datetime": "2019-12-01 00:51:53",
                    "passenger_count": 2,
                    "trip_distance": 2.109999895095825,
                    "RatecodeID": 1,
                    "store_and_fwd_flag": "N",
                    "PULocationID": 186,
                    "DOLocationID": 143,
                    "payment_type": 1,
                    "fare_amount": 13,
                    "extra": 0,
                    "mta_tax": 0.5,
                    "tip_amount": 4,
                    "tolls_amount": 0,
                    "improvement_surcharge": 0.30000001192092896,
                    "total_amount": 21.190000534057617,
                    "congestion_surcharge": "2.5"
                  },
                  {
                    "VendorID": 2,
                    "tpep_pickup_datetime": "2019-12-01 00:53:25",
                    "tpep_dropoff_datetime": "2019-12-01 08:19:26",
                    "passenger_count": 2,
                    "trip_distance": 3.240000009536743,
                    "RatecodeID": 1,
                    "store_and_fwd_flag": "N",
                    "PULocationID": 143,
                    "DOLocationID": 237,
                    "payment_type": 1,
                    "fare_amount": 17.5,
                    "extra": 0,
                    "mta_tax": 0.5,
                    "tip_amount": 1,
                    "tolls_amount": 0,
                    "improvement_surcharge": 0.30000001192092896,
                    "total_amount": 22.299999237060547,
                    "congestion_surcharge": "2.5"
                  },
                  {
                    "VendorID": 2,
                    "tpep_pickup_datetime": "2019-12-01 00:03:06",
                    "tpep_dropoff_datetime": "2019-12-01 00:12:13",
                    "passenger_count": 1,
                    "trip_distance": 1.159999966621399,
                    "RatecodeID": 1,
                    "store_and_fwd_flag": "N",
                    "PULocationID": 107,
                    "DOLocationID": 186,
                    "payment_type": 1,
                    "fare_amount": 7.5,
                    "extra": 0.5,
                    "mta_tax": 0.5,
                    "tip_amount": 2,
                    "tolls_amount": 0,
                    "improvement_surcharge": 0.30000001192092896,
                    "total_amount": 13.5600004196167,
                    "congestion_surcharge": "2.5"
                  },
                  {
                    "VendorID": 2,
                    "tpep_pickup_datetime": "2019-12-01 00:00:10",
                    "tpep_dropoff_datetime": "2019-12-01 00:04:52",
                    "passenger_count": 1,
                    "trip_distance": 0.6700000166893005,
                    "RatecodeID": 1,
                    "store_and_fwd_flag": "N",
                    "PULocationID": 48,
                    "DOLocationID": 143,
                    "payment_type": 1,
                    "fare_amount": 5,
                    "extra": 0.5,
                    "mta_tax": 0.5,
                    "tip_amount": 1,
                    "tolls_amount": 0,
                    "improvement_surcharge": 0.30000001192092896,
                    "total_amount": 9.800000190734863,
                    "congestion_surcharge": "2.5"
                  },
                  {
                    "VendorID": 2,
                    "tpep_pickup_datetime": "2019-12-01 00:00:34",
                    "tpep_dropoff_datetime": "2019-12-01 00:13:01",
                    "passenger_count": 6,
                    "trip_distance": 1.8799999952316284,
                    "RatecodeID": 1,
                    "store_and_fwd_flag": "N",
                    "PULocationID": 186,
                    "DOLocationID": 50,
                    "payment_type": 2,
                    "fare_amount": 10,
                    "extra": 0.5,
                    "mta_tax": 0.5,
                    "tip_amount": 0,
                    "tolls_amount": 0,
                    "improvement_surcharge": 0.30000001192092896,
                    "total_amount": 13.800000190734863,
                    "congestion_surcharge": "2.5"
                  },
                  {
                    "VendorID": 2,
                    "tpep_pickup_datetime": "2019-12-01 00:00:11",
                    "tpep_dropoff_datetime": "2019-12-01 00:10:21",
                    "passenger_count": 3,
                    "trip_distance": 1.0800000429153442,
                    "RatecodeID": 1,
                    "store_and_fwd_flag": "N",
                    "PULocationID": 163,
                    "DOLocationID": 237,
                    "payment_type": 1,
                    "fare_amount": 8,
                    "extra": 0.5,
                    "mta_tax": 0.5,
                    "tip_amount": 2,
                    "tolls_amount": 0,
                    "improvement_surcharge": 0.30000001192092896,
                    "total_amount": 14.15999984741211,
                    "congestion_surcharge": "2.5"
                  },
                  {
                    "VendorID": 2,
                    "tpep_pickup_datetime": "2019-12-01 00:01:47",
                    "tpep_dropoff_datetime": "2019-12-01 00:26:18",
                    "passenger_count": 3,
                    "trip_distance": 4.510000228881836,
                    "RatecodeID": 1,
                    "store_and_fwd_flag": "N",
                    "PULocationID": 114,
                    "DOLocationID": 189,
                    "payment_type": 1,
                    "fare_amount": 19,
                    "extra": 0.5,
                    "mta_tax": 0.5,
                    "tip_amount": 4,
                    "tolls_amount": 0,
                    "improvement_surcharge": 0.30000001192092896,
                    "total_amount": 27.360000610351562,
                    "congestion_surcharge": "2.5"
                  },
                  {
                    "VendorID": 2,
                    "tpep_pickup_datetime": "2019-12-01 00:00:02",
                    "tpep_dropoff_datetime": "2019-12-01 00:17:56",
                    "passenger_count": 5,
                    "trip_distance": 4.340000152587891,
                    "RatecodeID": 1,
                    "store_and_fwd_flag": "N",
                    "PULocationID": 161,
                    "DOLocationID": 41,
                    "payment_type": 2,
                    "fare_amount": 17,
                    "extra": 0.5,
                    "mta_tax": 0.5,
                    "tip_amount": 0,
                    "tolls_amount": 0,
                    "improvement_surcharge": 0.30000001192092896,
                    "total_amount": 20.799999237060547,
                    "congestion_surcharge": "2.5"
                  },
                  {
                    "VendorID": 2,
                    "tpep_pickup_datetime": "2019-12-01 00:01:13",
                    "tpep_dropoff_datetime": "2019-12-01 00:21:17",
                    "passenger_count": 1,
                    "trip_distance": 4.070000171661377,
                    "RatecodeID": 1,
                    "store_and_fwd_flag": "N",
                    "PULocationID": 237,
                    "DOLocationID": 79,
                    "payment_type": 1,
                    "fare_amount": 16,
                    "extra": 0.5,
                    "mta_tax": 0.5,
                    "tip_amount": 3,
                    "tolls_amount": 0,
                    "improvement_surcharge": 0.30000001192092896,
                    "total_amount": 23.049999237060547,
                    "congestion_surcharge": "2.5"
                  }
                ],
                "schema": {
                  "VendorID": "integer",
                  "tpep_pickup_datetime": "string",
                  "tpep_dropoff_datetime": "string",
                  "passenger_count": "integer",
                  "trip_distance": "float",
                  "RatecodeID": "integer",
                  "store_and_fwd_flag": "string",
                  "PULocationID": "integer",
                  "DOLocationID": "integer",
                  "payment_type": "integer",
                  "fare_amount": "float",
                  "extra": "float",
                  "mta_tax": "float",
                  "tip_amount": "integer",
                  "tolls_amount": "integer",
                  "improvement_surcharge": "float",
                  "total_amount": "float",
                  "congestion_surcharge": "string"
                }
              }
            }
          },
          "metadata": {}
        }
      ],
      "metadata": {
        "diagram": {
          "activateDiagramType": 1,
          "chartConfig": {
            "category": "bar",
            "keys": [
              "tpep_pickup_datetime"
            ],
            "values": [
              "VendorID"
            ],
            "yLabel": "VendorID",
            "xLabel": "tpep_pickup_datetime",
            "aggregation": "SUM",
            "aggByBackend": false
          },
          "aggData": "{\"VendorID\":{\"2019-12-01 00:00:02\":2,\"2019-12-01 00:00:10\":2,\"2019-12-01 00:00:11\":2,\"2019-12-01 00:00:34\":2,\"2019-12-01 00:01:13\":2,\"2019-12-01 00:01:47\":2,\"2019-12-01 00:03:06\":2,\"2019-12-01 00:17:53\":2,\"2019-12-01 00:33:23\":2,\"2019-12-01 00:53:25\":2}}",
          "isSummary": false,
          "previewData": {
            "filter": null
          },
          "isSql": true
        }
      },
      "source": [
        "SELECT * \n",
        "FROM synapse_trips_external_csv\n",
        "WHERE tpep_pickup_datetime between '2019-12-01' and '2019-12-02' \n",
        "LIMIT 10"
      ],
      "attachments": {}
    },
    {
      "cell_type": "code",
      "execution_count": 4,
      "outputs": [
        {
          "output_type": "execute_result",
          "execution_count": 4,
          "data": {
            "application/json": {
              "isSummary": false,
              "language": "sql",
              "table": {
                "rows": [
                  {
                    "col_name": "VendorID",
                    "data_type": "int",
                    "comment": null
                  },
                  {
                    "col_name": "tpep_pickup_datetime",
                    "data_type": "string",
                    "comment": null
                  },
                  {
                    "col_name": "tpep_dropoff_datetime",
                    "data_type": "string",
                    "comment": null
                  },
                  {
                    "col_name": "passenger_count",
                    "data_type": "int",
                    "comment": null
                  },
                  {
                    "col_name": "trip_distance",
                    "data_type": "float",
                    "comment": null
                  },
                  {
                    "col_name": "RatecodeID",
                    "data_type": "int",
                    "comment": null
                  },
                  {
                    "col_name": "store_and_fwd_flag",
                    "data_type": "string",
                    "comment": null
                  },
                  {
                    "col_name": "PULocationID",
                    "data_type": "int",
                    "comment": null
                  },
                  {
                    "col_name": "DOLocationID",
                    "data_type": "int",
                    "comment": null
                  },
                  {
                    "col_name": "payment_type",
                    "data_type": "int",
                    "comment": null
                  },
                  {
                    "col_name": "fare_amount",
                    "data_type": "float",
                    "comment": null
                  },
                  {
                    "col_name": "extra",
                    "data_type": "float",
                    "comment": null
                  },
                  {
                    "col_name": "mta_tax",
                    "data_type": "float",
                    "comment": null
                  },
                  {
                    "col_name": "tip_amount",
                    "data_type": "int",
                    "comment": null
                  },
                  {
                    "col_name": "tolls_amount",
                    "data_type": "int",
                    "comment": null
                  },
                  {
                    "col_name": "improvement_surcharge",
                    "data_type": "float",
                    "comment": null
                  },
                  {
                    "col_name": "total_amount",
                    "data_type": "float",
                    "comment": null
                  },
                  {
                    "col_name": "congestion_surcharge",
                    "data_type": "string",
                    "comment": null
                  }
                ],
                "schema": {
                  "col_name": "string",
                  "data_type": "string",
                  "comment": "string"
                }
              }
            }
          },
          "metadata": {}
        }
      ],
      "metadata": {
        "diagram": {
          "activateDiagramType": 1,
          "chartConfig": {
            "category": "bar",
            "keys": [
              "col_name"
            ],
            "values": [
              "col_name"
            ],
            "yLabel": "col_name",
            "xLabel": "col_name",
            "aggregation": "COUNT",
            "aggByBackend": false
          },
          "aggData": "{\"col_name\":{\"DOLocationID\":1,\"PULocationID\":1,\"RatecodeID\":1,\"VendorID\":1,\"congestion_surcharge\":1,\"extra\":1,\"fare_amount\":1,\"improvement_surcharge\":1,\"mta_tax\":1,\"passenger_count\":1,\"payment_type\":1,\"store_and_fwd_flag\":1,\"tip_amount\":1,\"tolls_amount\":1,\"total_amount\":1,\"tpep_dropoff_datetime\":1,\"tpep_pickup_datetime\":1,\"trip_distance\":1}}",
          "isSummary": false,
          "previewData": {
            "filter": null
          },
          "isSql": true
        }
      },
      "source": [
        "DESCRIBE synapse_trips_external_csv"
      ],
      "attachments": {}
    },
    {
      "cell_type": "code",
      "execution_count": 5,
      "outputs": [
        {
          "output_type": "execute_result",
          "execution_count": 5,
          "data": {
            "application/json": {
              "isSummary": false,
              "language": "sql",
              "table": {
                "rows": [],
                "schema": {}
              }
            }
          },
          "metadata": {}
        }
      ],
      "metadata": {
        "diagram": {
          "activateDiagramType": 1,
          "chartConfig": {
            "category": "bar",
            "keys": [],
            "values": [],
            "yLabel": "",
            "xLabel": "",
            "aggregation": "SUM",
            "aggByBackend": false
          },
          "aggData": "{}",
          "isSummary": false,
          "previewData": {
            "filter": null
          },
          "isSql": true
        }
      },
      "source": [
        "DROP TABLE IF EXISTS synapse_yellow_trips_delta"
      ],
      "attachments": {}
    },
    {
      "cell_type": "code",
      "execution_count": 6,
      "outputs": [
        {
          "output_type": "execute_result",
          "execution_count": 6,
          "data": {
            "application/json": {
              "isSummary": false,
              "language": "sql",
              "table": {
                "rows": [],
                "schema": {}
              }
            }
          },
          "metadata": {}
        }
      ],
      "metadata": {
        "diagram": {
          "activateDiagramType": 1,
          "chartConfig": {
            "category": "bar",
            "keys": [],
            "values": [],
            "yLabel": "",
            "xLabel": "",
            "aggregation": "SUM",
            "aggByBackend": false
          },
          "aggData": "{}",
          "isSummary": false,
          "previewData": {
            "filter": null
          },
          "isSql": true
        }
      },
      "source": [
        "CREATE TABLE synapse_yellow_trips_delta USING DELTA PARTITIONED BY (year_month)\n",
        "Select replace(left(tpep_pickup_datetime, 7),'-','_') as year_month, * from synapse_trips_external_csv"
      ],
      "attachments": {}
    },
    {
      "cell_type": "code",
      "execution_count": 7,
      "outputs": [
        {
          "output_type": "execute_result",
          "execution_count": 7,
          "data": {
            "application/json": {
              "isSummary": false,
              "language": "sql",
              "table": {
                "rows": [
                  {
                    "payment_type": 1,
                    "record_count": 203,
                    "avg_tip": 2.541871921182266
                  },
                  {
                    "payment_type": 2,
                    "record_count": 152,
                    "avg_tip": 0
                  }
                ],
                "schema": {
                  "payment_type": "integer",
                  "record_count": "long",
                  "avg_tip": "double"
                }
              }
            }
          },
          "metadata": {}
        }
      ],
      "metadata": {
        "diagram": {
          "activateDiagramType": 1,
          "chartConfig": {
            "category": "bar",
            "keys": [
              "record_count"
            ],
            "values": [
              "payment_type"
            ],
            "yLabel": "payment_type",
            "xLabel": "record_count",
            "aggregation": "SUM",
            "aggByBackend": false
          },
          "aggData": "{\"payment_type\":{\"152\":2,\"203\":1}}",
          "isSummary": false,
          "previewData": {
            "filter": null
          },
          "isSql": true
        }
      },
      "source": [
        "SELECT \n",
        "  payment_type,\n",
        "  count(1) record_count,\n",
        "  avg(tip_amount) avg_tip\n",
        "FROM synapse_yellow_trips_delta\n",
        "WHERE payment_type is not null\n",
        "and year_month='2018_12'\n",
        "GROUP BY payment_type\n",
        "ORDER BY record_count desc"
      ],
      "attachments": {}
    }
  ]
}